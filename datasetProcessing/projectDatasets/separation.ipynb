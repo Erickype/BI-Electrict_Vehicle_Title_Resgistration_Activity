{
 "cells": [
  {
   "cell_type": "code",
   "execution_count": 3,
   "metadata": {},
   "outputs": [],
   "source": [
    "import pandas as pd\n",
    "from sklearn.model_selection import train_test_split"
   ]
  },
  {
   "cell_type": "code",
   "execution_count": 4,
   "metadata": {},
   "outputs": [],
   "source": [
    "data = pd.read_csv(\"../datasets/final.csv\")"
   ]
  },
  {
   "cell_type": "code",
   "execution_count": 12,
   "metadata": {},
   "outputs": [
    {
     "name": "stdout",
     "output_type": "stream",
     "text": [
      "Training set label distribution:\n",
      "label\n",
      "16    6848\n",
      "11    6832\n",
      "13    6828\n",
      "5     6803\n",
      "39    6795\n",
      "35    6775\n",
      "9     6770\n",
      "2     6756\n",
      "25    6751\n",
      "33    6741\n",
      "15    6730\n",
      "38    6717\n",
      "26    6702\n",
      "37    6698\n",
      "31    6693\n",
      "19    6689\n",
      "28    6681\n",
      "27    6677\n",
      "8     6646\n",
      "Name: count, dtype: int64\n",
      "\n",
      "Validation set label distribution:\n",
      "label\n",
      "8     1510\n",
      "31    1486\n",
      "27    1486\n",
      "39    1479\n",
      "38    1476\n",
      "37    1465\n",
      "35    1460\n",
      "9     1460\n",
      "19    1460\n",
      "33    1459\n",
      "15    1459\n",
      "28    1446\n",
      "5     1421\n",
      "26    1421\n",
      "13    1415\n",
      "2     1402\n",
      "16    1393\n",
      "11    1383\n",
      "25    1376\n",
      "Name: count, dtype: int64\n",
      "\n",
      "Test set label distribution:\n",
      "label\n",
      "26    1511\n",
      "28    1507\n",
      "25    1507\n",
      "19    1485\n",
      "8     1478\n",
      "2     1476\n",
      "27    1471\n",
      "37    1471\n",
      "31    1455\n",
      "15    1445\n",
      "38    1441\n",
      "33    1434\n",
      "11    1419\n",
      "5     1410\n",
      "9     1404\n",
      "35    1399\n",
      "16    1393\n",
      "13    1391\n",
      "39    1360\n",
      "Name: count, dtype: int64\n"
     ]
    }
   ],
   "source": [
    "train_data, test_val_data = train_test_split(data, test_size=0.3, random_state=42)\n",
    "val_data, test_data = train_test_split(test_val_data, test_size=0.5, random_state=42)\n",
    "\n",
    "# Check the distribution in the splits\n",
    "print(\"Training set label distribution:\")\n",
    "print(train_data[\"label\"].value_counts())\n",
    "print(\"\\nValidation set label distribution:\")\n",
    "print(val_data[\"label\"].value_counts())\n",
    "print(\"\\nTest set label distribution:\")\n",
    "print(test_data[\"label\"].value_counts())"
   ]
  },
  {
   "cell_type": "code",
   "execution_count": 13,
   "metadata": {},
   "outputs": [],
   "source": [
    "train_data.to_csv(\"train.csv\", index=False)\n",
    "val_data.to_csv(\"validation.csv\", index=False)\n",
    "test_data.to_csv(\"test.csv\", index=False)"
   ]
  }
 ],
 "metadata": {
  "kernelspec": {
   "display_name": "Python 3",
   "language": "python",
   "name": "python3"
  },
  "language_info": {
   "codemirror_mode": {
    "name": "ipython",
    "version": 3
   },
   "file_extension": ".py",
   "mimetype": "text/x-python",
   "name": "python",
   "nbconvert_exporter": "python",
   "pygments_lexer": "ipython3",
   "version": "3.11.3"
  }
 },
 "nbformat": 4,
 "nbformat_minor": 2
}
