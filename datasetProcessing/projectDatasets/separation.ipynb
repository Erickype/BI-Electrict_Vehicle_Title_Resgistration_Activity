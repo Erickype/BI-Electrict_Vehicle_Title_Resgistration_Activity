{
 "cells": [
  {
   "cell_type": "code",
   "execution_count": 1,
   "metadata": {},
   "outputs": [],
   "source": [
    "import pandas as pd\n",
    "from sklearn.model_selection import train_test_split"
   ]
  },
  {
   "cell_type": "code",
   "execution_count": 2,
   "metadata": {},
   "outputs": [],
   "source": [
    "data = pd.read_csv(\"../datasets/final.csv\")"
   ]
  },
  {
   "cell_type": "code",
   "execution_count": 3,
   "metadata": {},
   "outputs": [
    {
     "name": "stdout",
     "output_type": "stream",
     "text": [
      "Training set label distribution:\n",
      "label\n",
      "2     559\n",
      "32    559\n",
      "39    559\n",
      "35    556\n",
      "8     555\n",
      "28    553\n",
      "19    553\n",
      "16    549\n",
      "13    538\n",
      "5     538\n",
      "37    533\n",
      "Name: count, dtype: int64\n",
      "\n",
      "Validation set label distribution:\n",
      "label\n",
      "37    136\n",
      "19    128\n",
      "32    123\n",
      "5     123\n",
      "28    121\n",
      "16    120\n",
      "8     116\n",
      "2     115\n",
      "13    109\n",
      "35    104\n",
      "39    102\n",
      "Name: count, dtype: int64\n",
      "\n",
      "Test set label distribution:\n",
      "label\n",
      "13    139\n",
      "35    126\n",
      "39    125\n",
      "5     125\n",
      "16    117\n",
      "37    117\n",
      "8     115\n",
      "2     112\n",
      "28    112\n",
      "19    105\n",
      "32    104\n",
      "Name: count, dtype: int64\n"
     ]
    }
   ],
   "source": [
    "train_data, test_val_data = train_test_split(data, test_size=0.3, random_state=42)\n",
    "val_data, test_data = train_test_split(test_val_data, test_size=0.5, random_state=42)\n",
    "\n",
    "# Check the distribution in the splits\n",
    "print(\"Training set label distribution:\")\n",
    "print(train_data[\"label\"].value_counts())\n",
    "print(\"\\nValidation set label distribution:\")\n",
    "print(val_data[\"label\"].value_counts())\n",
    "print(\"\\nTest set label distribution:\")\n",
    "print(test_data[\"label\"].value_counts())"
   ]
  },
  {
   "cell_type": "code",
   "execution_count": 4,
   "metadata": {},
   "outputs": [],
   "source": [
    "train_data.to_csv(\"train.csv\", index=False)\n",
    "val_data.to_csv(\"validation.csv\", index=False)\n",
    "test_data.to_csv(\"test.csv\", index=False)"
   ]
  }
 ],
 "metadata": {
  "kernelspec": {
   "display_name": "Python 3",
   "language": "python",
   "name": "python3"
  },
  "language_info": {
   "codemirror_mode": {
    "name": "ipython",
    "version": 3
   },
   "file_extension": ".py",
   "mimetype": "text/x-python",
   "name": "python",
   "nbconvert_exporter": "python",
   "pygments_lexer": "ipython3",
   "version": "3.11.3"
  }
 },
 "nbformat": 4,
 "nbformat_minor": 2
}
