{
 "cells": [
  {
   "cell_type": "code",
   "execution_count": 1,
   "metadata": {},
   "outputs": [],
   "source": [
    "import pandas as pd\n",
    "import numpy as np\n",
    "import random \n",
    "from sklearn.model_selection import train_test_split"
   ]
  },
  {
   "cell_type": "code",
   "execution_count": 2,
   "metadata": {},
   "outputs": [],
   "source": [
    "data = pd.read_csv(\"../../datasetProcessing/datasets/final.csv\")"
   ]
  },
  {
   "cell_type": "code",
   "execution_count": 3,
   "metadata": {},
   "outputs": [
    {
     "name": "stdout",
     "output_type": "stream",
     "text": [
      "label\n",
      "1    9634\n",
      "0    9634\n",
      "Name: count, dtype: int64\n"
     ]
    }
   ],
   "source": [
    "unique_classes = data['label'].unique()\n",
    "\n",
    "# Randomly select two different classes\n",
    "random_classes = random.sample(list(unique_classes), 2)\n",
    "\n",
    "extracted_classes = data[data['label'].isin(random_classes)]\n",
    "\n",
    "label_mapping = {random_classes[0]: 1, random_classes[1]: 0}\n",
    "extracted_classes.loc[:, 'label'] = extracted_classes['label'].map(label_mapping)\n",
    "\n",
    "data = extracted_classes\n",
    "print(data[\"label\"].value_counts())"
   ]
  },
  {
   "cell_type": "code",
   "execution_count": 4,
   "metadata": {},
   "outputs": [
    {
     "name": "stdout",
     "output_type": "stream",
     "text": [
      "(17341, 116) (17341,)\n",
      "(1927, 116) (1927,)\n"
     ]
    }
   ],
   "source": [
    "X = data.iloc[:int(data.shape[0]), :-1]\n",
    "y = data.iloc[:int(data.shape[0]), -1]\n",
    "\n",
    "X_tr, X_te, y_tr, y_te = map(np.array, train_test_split(X, y, test_size=0.1, random_state=42))\n",
    "print(X_tr.shape, y_tr.shape)\n",
    "print(X_te.shape, y_te.shape)"
   ]
  },
  {
   "cell_type": "code",
   "execution_count": 5,
   "metadata": {},
   "outputs": [],
   "source": [
    "import numpy as np\n",
    "\n",
    "class LogisticRegression:\n",
    "    def sigmoid(self, z):\n",
    "        # Sigmoid function to squash values between 0 and 1\n",
    "        sig = 1 / (1 + np.exp(-z))\n",
    "        return sig\n",
    "\n",
    "    def initialize(self, X):\n",
    "        # Initialize weights randomly between 0 and 1\n",
    "        weights = np.random.rand(X.shape[1] + 1, 1)\n",
    "        X = np.c_[np.ones((X.shape[0], 1)), X]  # Adding a column of ones for the bias term\n",
    "        return weights, X\n",
    "    \n",
    "    def fit(self, X, y, alpha=0.001, iterations=400):\n",
    "        # Fit the logistic regression model using gradient descent\n",
    "        weights, X = self.initialize(X)\n",
    "\n",
    "        def cost(theta):\n",
    "            # Cost function (cross-entropy) for logistic regression\n",
    "            z = np.dot(X, theta)\n",
    "            cost0 = y.T.dot(np.log(self.sigmoid(z)))\n",
    "            cost1 = (1 - y).T.dot(np.log(1 - self.sigmoid(z)))\n",
    "            cost = -((cost1 + cost0)) / len(y)\n",
    "            return cost\n",
    "\n",
    "        cost_list = np.zeros(iterations)\n",
    "        for i in range(iterations):\n",
    "            # Calculate gradients and update weights using gradient descent\n",
    "            gradients = np.dot(X.T, self.sigmoid(np.dot(X, weights)) - np.reshape(y, (len(y), 1)))\n",
    "            weights -= alpha * gradients\n",
    "            cost_list[i] = cost(weights.squeeze())  # Use squeeze() to convert array to a scalar\n",
    "\n",
    "        self.weights = weights\n",
    "        return cost_list\n",
    "\n",
    "    def predict(self, X):\n",
    "        # Make predictions based on learned weights\n",
    "        X = np.c_[np.ones((X.shape[0], 1)), X]  # Adding bias term to input features\n",
    "        z = np.dot(X, self.weights)\n",
    "        predictions = [1 if i > 0.5 else 0 for i in self.sigmoid(z)]\n",
    "        return predictions\n",
    "\n",
    "    def accuracy(self, y_true, y_pred):\n",
    "        # Calculate accuracy of the model\n",
    "        correct = sum(y_t == y_p for y_t, y_p in zip(y_true, y_pred))\n",
    "        total = len(y_true)\n",
    "        acc = correct / total\n",
    "        return acc\n",
    "\n",
    "    def error(self, y_true, y_pred):\n",
    "        # Calculate error rate of the model\n",
    "        err = 1 - self.accuracy(y_true, y_pred)\n",
    "        return err\n"
   ]
  },
  {
   "cell_type": "code",
   "execution_count": 6,
   "metadata": {},
   "outputs": [],
   "source": [
    "lr = LogisticRegression()\n",
    "model = lr.fit(X_tr, y_tr)"
   ]
  },
  {
   "cell_type": "code",
   "execution_count": 7,
   "metadata": {},
   "outputs": [
    {
     "name": "stdout",
     "output_type": "stream",
     "text": [
      "Accuracy: 1.0\n",
      "Error: 0.0\n"
     ]
    }
   ],
   "source": [
    "y_pred = lr.predict(X_te)\n",
    "\n",
    "acc = lr.accuracy(y_te, y_pred)\n",
    "err = lr.error(y_te, y_pred)\n",
    "\n",
    "print(\"Accuracy:\", acc)\n",
    "print(\"Error:\", err)"
   ]
  },
  {
   "cell_type": "code",
   "execution_count": 8,
   "metadata": {},
   "outputs": [
    {
     "data": {
      "text/html": [
       "<style>#sk-container-id-1 {color: black;}#sk-container-id-1 pre{padding: 0;}#sk-container-id-1 div.sk-toggleable {background-color: white;}#sk-container-id-1 label.sk-toggleable__label {cursor: pointer;display: block;width: 100%;margin-bottom: 0;padding: 0.3em;box-sizing: border-box;text-align: center;}#sk-container-id-1 label.sk-toggleable__label-arrow:before {content: \"▸\";float: left;margin-right: 0.25em;color: #696969;}#sk-container-id-1 label.sk-toggleable__label-arrow:hover:before {color: black;}#sk-container-id-1 div.sk-estimator:hover label.sk-toggleable__label-arrow:before {color: black;}#sk-container-id-1 div.sk-toggleable__content {max-height: 0;max-width: 0;overflow: hidden;text-align: left;background-color: #f0f8ff;}#sk-container-id-1 div.sk-toggleable__content pre {margin: 0.2em;color: black;border-radius: 0.25em;background-color: #f0f8ff;}#sk-container-id-1 input.sk-toggleable__control:checked~div.sk-toggleable__content {max-height: 200px;max-width: 100%;overflow: auto;}#sk-container-id-1 input.sk-toggleable__control:checked~label.sk-toggleable__label-arrow:before {content: \"▾\";}#sk-container-id-1 div.sk-estimator input.sk-toggleable__control:checked~label.sk-toggleable__label {background-color: #d4ebff;}#sk-container-id-1 div.sk-label input.sk-toggleable__control:checked~label.sk-toggleable__label {background-color: #d4ebff;}#sk-container-id-1 input.sk-hidden--visually {border: 0;clip: rect(1px 1px 1px 1px);clip: rect(1px, 1px, 1px, 1px);height: 1px;margin: -1px;overflow: hidden;padding: 0;position: absolute;width: 1px;}#sk-container-id-1 div.sk-estimator {font-family: monospace;background-color: #f0f8ff;border: 1px dotted black;border-radius: 0.25em;box-sizing: border-box;margin-bottom: 0.5em;}#sk-container-id-1 div.sk-estimator:hover {background-color: #d4ebff;}#sk-container-id-1 div.sk-parallel-item::after {content: \"\";width: 100%;border-bottom: 1px solid gray;flex-grow: 1;}#sk-container-id-1 div.sk-label:hover label.sk-toggleable__label {background-color: #d4ebff;}#sk-container-id-1 div.sk-serial::before {content: \"\";position: absolute;border-left: 1px solid gray;box-sizing: border-box;top: 0;bottom: 0;left: 50%;z-index: 0;}#sk-container-id-1 div.sk-serial {display: flex;flex-direction: column;align-items: center;background-color: white;padding-right: 0.2em;padding-left: 0.2em;position: relative;}#sk-container-id-1 div.sk-item {position: relative;z-index: 1;}#sk-container-id-1 div.sk-parallel {display: flex;align-items: stretch;justify-content: center;background-color: white;position: relative;}#sk-container-id-1 div.sk-item::before, #sk-container-id-1 div.sk-parallel-item::before {content: \"\";position: absolute;border-left: 1px solid gray;box-sizing: border-box;top: 0;bottom: 0;left: 50%;z-index: -1;}#sk-container-id-1 div.sk-parallel-item {display: flex;flex-direction: column;z-index: 1;position: relative;background-color: white;}#sk-container-id-1 div.sk-parallel-item:first-child::after {align-self: flex-end;width: 50%;}#sk-container-id-1 div.sk-parallel-item:last-child::after {align-self: flex-start;width: 50%;}#sk-container-id-1 div.sk-parallel-item:only-child::after {width: 0;}#sk-container-id-1 div.sk-dashed-wrapped {border: 1px dashed gray;margin: 0 0.4em 0.5em 0.4em;box-sizing: border-box;padding-bottom: 0.4em;background-color: white;}#sk-container-id-1 div.sk-label label {font-family: monospace;font-weight: bold;display: inline-block;line-height: 1.2em;}#sk-container-id-1 div.sk-label-container {text-align: center;}#sk-container-id-1 div.sk-container {/* jupyter's `normalize.less` sets `[hidden] { display: none; }` but bootstrap.min.css set `[hidden] { display: none !important; }` so we also need the `!important` here to be able to override the default hidden behavior on the sphinx rendered scikit-learn.org. See: https://github.com/scikit-learn/scikit-learn/issues/21755 */display: inline-block !important;position: relative;}#sk-container-id-1 div.sk-text-repr-fallback {display: none;}</style><div id=\"sk-container-id-1\" class=\"sk-top-container\"><div class=\"sk-text-repr-fallback\"><pre>LogisticRegression()</pre><b>In a Jupyter environment, please rerun this cell to show the HTML representation or trust the notebook. <br />On GitHub, the HTML representation is unable to render, please try loading this page with nbviewer.org.</b></div><div class=\"sk-container\" hidden><div class=\"sk-item\"><div class=\"sk-estimator sk-toggleable\"><input class=\"sk-toggleable__control sk-hidden--visually\" id=\"sk-estimator-id-1\" type=\"checkbox\" checked><label for=\"sk-estimator-id-1\" class=\"sk-toggleable__label sk-toggleable__label-arrow\">LogisticRegression</label><div class=\"sk-toggleable__content\"><pre>LogisticRegression()</pre></div></div></div></div></div>"
      ],
      "text/plain": [
       "LogisticRegression()"
      ]
     },
     "execution_count": 8,
     "metadata": {},
     "output_type": "execute_result"
    }
   ],
   "source": [
    "import numpy as np\n",
    "from sklearn.linear_model import LogisticRegression\n",
    "\n",
    "lr = LogisticRegression()\n",
    "lr.fit(X_tr, y_tr)"
   ]
  },
  {
   "cell_type": "code",
   "execution_count": 9,
   "metadata": {},
   "outputs": [
    {
     "name": "stdout",
     "output_type": "stream",
     "text": [
      "Accuracy on test set: 1.00\n"
     ]
    }
   ],
   "source": [
    "y_pred = lr.predict(X_te)\n",
    "print('Accuracy on test set: {:.2f}'.format(lr.score(X_te, y_te)))"
   ]
  },
  {
   "cell_type": "code",
   "execution_count": 10,
   "metadata": {},
   "outputs": [
    {
     "name": "stdout",
     "output_type": "stream",
     "text": [
      "Intervalo de confianza del 95% para la probabilidad: [0.48315492231038504, 0.527692704852506]\n",
      "Error asociado: 0.011134445635530222\n"
     ]
    }
   ],
   "source": [
    "# Predicciones de probabilidad en el conjunto de prueba\n",
    "prob_predictions = lr.predict_proba(X_te)[:, 0]  # Probabilidades para la clase 0\n",
    "\n",
    "# Cálculo del intervalo de confianza\n",
    "estimation = np.mean(prob_predictions)\n",
    "z_critical = 1.96  # Para un intervalo del 95%\n",
    "n = len(prob_predictions)\n",
    "std_dev = np.std(prob_predictions)\n",
    "confidence_interval = z_critical * (std_dev / np.sqrt(n))\n",
    "\n",
    "# Cálculo del error\n",
    "error = confidence_interval / 2\n",
    "\n",
    "print(f\"Intervalo de confianza del 95% para la probabilidad: [{estimation - confidence_interval}, {estimation + confidence_interval}]\")\n",
    "print(f\"Error asociado: {error}\")"
   ]
  },
  {
   "cell_type": "code",
   "execution_count": 11,
   "metadata": {},
   "outputs": [
    {
     "name": "stdout",
     "output_type": "stream",
     "text": [
      "Intervalo de confianza del 95% para la probabilidad: [0.472307295147494, 0.5168450776896149]\n",
      "Error asociado: 0.011134445635530222\n"
     ]
    }
   ],
   "source": [
    "# Predicciones de probabilidad en el conjunto de prueba\n",
    "prob_predictions = lr.predict_proba(X_te)[:, 1]  # Probabilidades para la clase 1\n",
    "\n",
    "# Cálculo del intervalo de confianza\n",
    "estimation = np.mean(prob_predictions)\n",
    "z_critical = 1.96  # Para un intervalo del 95%\n",
    "n = len(prob_predictions)\n",
    "std_dev = np.std(prob_predictions)\n",
    "confidence_interval = z_critical * (std_dev / np.sqrt(n))\n",
    "\n",
    "# Cálculo del error\n",
    "error = confidence_interval / 2\n",
    "\n",
    "print(f\"Intervalo de confianza del 95% para la probabilidad: [{estimation - confidence_interval}, {estimation + confidence_interval}]\")\n",
    "print(f\"Error asociado: {error}\")"
   ]
  }
 ],
 "metadata": {
  "kernelspec": {
   "display_name": "Python 3",
   "language": "python",
   "name": "python3"
  },
  "language_info": {
   "codemirror_mode": {
    "name": "ipython",
    "version": 3
   },
   "file_extension": ".py",
   "mimetype": "text/x-python",
   "name": "python",
   "nbconvert_exporter": "python",
   "pygments_lexer": "ipython3",
   "version": "3.11.3"
  }
 },
 "nbformat": 4,
 "nbformat_minor": 2
}
