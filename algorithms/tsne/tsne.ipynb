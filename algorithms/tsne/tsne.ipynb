{
 "cells": [
  {
   "cell_type": "code",
   "execution_count": 1,
   "metadata": {},
   "outputs": [],
   "source": [
    "import pandas as pd"
   ]
  },
  {
   "cell_type": "code",
   "execution_count": 2,
   "metadata": {},
   "outputs": [],
   "source": [
    "data = pd.read_csv(\"../../datasetProcessing/datasets/final.csv\")"
   ]
  },
  {
   "cell_type": "code",
   "execution_count": 3,
   "metadata": {},
   "outputs": [],
   "source": [
    "from sklearn.manifold import TSNE\n",
    "import pandas as pd\n",
    "\n",
    "X = data.iloc[:int(data.shape[0]), :-1]\n",
    "y = data.iloc[:int(data.shape[0]), -1]\n",
    "\n",
    "# Apply t-SNE to reduce the dimensionality of the data\n",
    "tsne = TSNE(n_components=2, random_state=42)\n",
    "tsne_result = tsne.fit_transform(X)\n",
    "\n",
    "# Convert the t-SNE results to a DataFrame\n",
    "data = pd.DataFrame(tsne_result, columns=['Dimension 1', 'Dimension 2'])\n",
    "data['Target'] = y  # You can add the original labels/targets to the DataFrame if available\n",
    "\n",
    "# Display the resulting DataFrame\n",
    "print(data.head())"
   ]
  }
 ],
 "metadata": {
  "kernelspec": {
   "display_name": "Python 3",
   "language": "python",
   "name": "python3"
  },
  "language_info": {
   "codemirror_mode": {
    "name": "ipython",
    "version": 3
   },
   "file_extension": ".py",
   "mimetype": "text/x-python",
   "name": "python",
   "nbconvert_exporter": "python",
   "pygments_lexer": "ipython3",
   "version": "3.11.3"
  }
 },
 "nbformat": 4,
 "nbformat_minor": 2
}
